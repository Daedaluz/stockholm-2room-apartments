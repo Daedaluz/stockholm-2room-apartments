{
 "cells": [
  {
   "cell_type": "code",
   "execution_count": 3,
   "id": "aa5969a6-2c53-4e53-8bbd-270a39d6f8ba",
   "metadata": {},
   "outputs": [],
   "source": [
    "import pandas as pd"
   ]
  },
  {
   "cell_type": "code",
   "execution_count": 4,
   "id": "fcb3f5c5-b27a-4c21-98a4-47152ab2ac8c",
   "metadata": {},
   "outputs": [],
   "source": [
    "df = pd.read_csv('data/data.csv')"
   ]
  },
  {
   "cell_type": "code",
   "execution_count": 5,
   "id": "3d9a49a6-5b82-4cd0-a9ed-fc60f7fa8e5a",
   "metadata": {},
   "outputs": [
    {
     "data": {
      "text/html": [
       "<div>\n",
       "<style scoped>\n",
       "    .dataframe tbody tr th:only-of-type {\n",
       "        vertical-align: middle;\n",
       "    }\n",
       "\n",
       "    .dataframe tbody tr th {\n",
       "        vertical-align: top;\n",
       "    }\n",
       "\n",
       "    .dataframe thead th {\n",
       "        text-align: right;\n",
       "    }\n",
       "</style>\n",
       "<table border=\"1\" class=\"dataframe\">\n",
       "  <thead>\n",
       "    <tr style=\"text-align: right;\">\n",
       "      <th></th>\n",
       "      <th>area</th>\n",
       "      <th>adress</th>\n",
       "      <th>price</th>\n",
       "      <th>price_per_sqm</th>\n",
       "      <th>monthly_fee</th>\n",
       "      <th>size_in_sqm</th>\n",
       "      <th>date_sold</th>\n",
       "    </tr>\n",
       "  </thead>\n",
       "  <tbody>\n",
       "    <tr>\n",
       "      <th>0</th>\n",
       "      <td>Södermalm</td>\n",
       "      <td>Götgatan 128, 3tr</td>\n",
       "      <td>4850000</td>\n",
       "      <td>74615</td>\n",
       "      <td>2798.0</td>\n",
       "      <td>65</td>\n",
       "      <td>2023-02-03</td>\n",
       "    </tr>\n",
       "    <tr>\n",
       "      <th>1</th>\n",
       "      <td>Årsta</td>\n",
       "      <td>Möckelvägen 32</td>\n",
       "      <td>2650000</td>\n",
       "      <td>63095</td>\n",
       "      <td>3281.0</td>\n",
       "      <td>42</td>\n",
       "      <td>2023-02-03</td>\n",
       "    </tr>\n",
       "    <tr>\n",
       "      <th>2</th>\n",
       "      <td>Södermalm</td>\n",
       "      <td>Heleneborgsgatan 30</td>\n",
       "      <td>4500000</td>\n",
       "      <td>97826</td>\n",
       "      <td>2451.0</td>\n",
       "      <td>46</td>\n",
       "      <td>2023-02-02</td>\n",
       "    </tr>\n",
       "    <tr>\n",
       "      <th>3</th>\n",
       "      <td>Östermalm</td>\n",
       "      <td>Körsbärsvägen 10, 5tr</td>\n",
       "      <td>5025000</td>\n",
       "      <td>94811</td>\n",
       "      <td>2664.0</td>\n",
       "      <td>53</td>\n",
       "      <td>2023-02-02</td>\n",
       "    </tr>\n",
       "    <tr>\n",
       "      <th>4</th>\n",
       "      <td>Vasastan</td>\n",
       "      <td>Anna Steckséns Gata 15, 10 tr</td>\n",
       "      <td>4900000</td>\n",
       "      <td>128947</td>\n",
       "      <td>2387.0</td>\n",
       "      <td>38</td>\n",
       "      <td>2023-02-02</td>\n",
       "    </tr>\n",
       "  </tbody>\n",
       "</table>\n",
       "</div>"
      ],
      "text/plain": [
       "        area                         adress    price  price_per_sqm  \\\n",
       "0  Södermalm              Götgatan 128, 3tr  4850000          74615   \n",
       "1      Årsta                 Möckelvägen 32  2650000          63095   \n",
       "2  Södermalm            Heleneborgsgatan 30  4500000          97826   \n",
       "3  Östermalm          Körsbärsvägen 10, 5tr  5025000          94811   \n",
       "4   Vasastan  Anna Steckséns Gata 15, 10 tr  4900000         128947   \n",
       "\n",
       "   monthly_fee  size_in_sqm   date_sold  \n",
       "0       2798.0           65  2023-02-03  \n",
       "1       3281.0           42  2023-02-03  \n",
       "2       2451.0           46  2023-02-02  \n",
       "3       2664.0           53  2023-02-02  \n",
       "4       2387.0           38  2023-02-02  "
      ]
     },
     "execution_count": 5,
     "metadata": {},
     "output_type": "execute_result"
    }
   ],
   "source": [
    "df.head()"
   ]
  },
  {
   "cell_type": "code",
   "execution_count": null,
   "id": "de9649f7-8ae1-414f-828a-a18b77e0ef63",
   "metadata": {},
   "outputs": [],
   "source": []
  }
 ],
 "metadata": {
  "kernelspec": {
   "display_name": "Python 3 (ipykernel)",
   "language": "python",
   "name": "python3"
  },
  "language_info": {
   "codemirror_mode": {
    "name": "ipython",
    "version": 3
   },
   "file_extension": ".py",
   "mimetype": "text/x-python",
   "name": "python",
   "nbconvert_exporter": "python",
   "pygments_lexer": "ipython3",
   "version": "3.10.9"
  }
 },
 "nbformat": 4,
 "nbformat_minor": 5
}
